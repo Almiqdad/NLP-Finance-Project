{
  "cells": [
    {
      "cell_type": "markdown",
      "source": [
        "# **Purpose: Collect News Article titles about a currency pair and get its associated price movement (Up or Down) **"
      ],
      "metadata": {
        "nteract": {
          "transient": {
            "deleting": false
          }
        }
      }
    },
    {
      "cell_type": "markdown",
      "source": [
        "****"
      ],
      "metadata": {
        "nteract": {
          "transient": {
            "deleting": false
          }
        }
      }
    },
    {
      "cell_type": "code",
      "source": [
        "!pip install beautifulsoup4 requests\n",
        "# I made these changes bitch"
      ],
      "outputs": [
        {
          "output_type": "stream",
          "name": "stdout",
          "text": "Requirement already satisfied: beautifulsoup4 in /anaconda/envs/azureml_py38/lib/python3.10/site-packages (4.12.3)\nRequirement already satisfied: requests in /anaconda/envs/azureml_py38/lib/python3.10/site-packages (2.32.3)\nRequirement already satisfied: soupsieve>1.2 in /anaconda/envs/azureml_py38/lib/python3.10/site-packages (from beautifulsoup4) (2.5)\nRequirement already satisfied: charset-normalizer<4,>=2 in /anaconda/envs/azureml_py38/lib/python3.10/site-packages (from requests) (3.3.2)\nRequirement already satisfied: idna<4,>=2.5 in /anaconda/envs/azureml_py38/lib/python3.10/site-packages (from requests) (3.7)\nRequirement already satisfied: urllib3<3,>=1.21.1 in /anaconda/envs/azureml_py38/lib/python3.10/site-packages (from requests) (1.26.19)\nRequirement already satisfied: certifi>=2017.4.17 in /anaconda/envs/azureml_py38/lib/python3.10/site-packages (from requests) (2024.8.30)\n\u001b[33mWARNING: Error parsing dependencies of numpy: [Errno 2] No such file or directory: '/anaconda/envs/azureml_py38/lib/python3.10/site-packages/numpy-1.23.5.dist-info/METADATA'\u001b[0m\u001b[33m\n\u001b[0m"
        }
      ],
      "execution_count": 6,
      "metadata": {}
    },
    {
      "cell_type": "markdown",
      "source": [
        "**Given a currency pair, get relevant news articles from the previous day**"
      ],
      "metadata": {
        "nteract": {
          "transient": {
            "deleting": false
          }
        }
      }
    },
    {
      "cell_type": "code",
      "source": [
        "from bs4 import BeautifulSoup as bs\n",
        "import pandas as pd\n",
        "from urllib.request import Request, urlopen\n",
        "from tqdm import tqdm\n",
        "\n",
        "class fx_news_scraper():\n",
        "    def __init__(self):\n",
        "        self.number_of_pages = 29\n",
        "        self.news_list = []\n",
        "        self.target_url = 'https://www.investing.com/news/forex-news/'\n",
        "        self.output_csv = 'app/data/fx-news-archive_test.csv'\n",
        "        self.news_dataset = pd.DataFrame()\n",
        "\n",
        "    def scraper(self):\n",
        "        for page_no in tqdm(range(1, self.number_of_pages+1)):\n",
        "            url = self.target_url + str(page_no)\n",
        "            req = Request(url , headers={'User-Agent': 'Mozilla/5.0'})\n",
        "            \n",
        "            webpage = urlopen(req).read()\n",
        "            \n",
        "            soup = bs(webpage, \"html.parser\")\n",
        "            \n",
        "            news_container_div = soup.find('div', class_= 'news-analysis-v2_articles-container__3fFL8 mdMax:px-3 mb-12')\n",
        "\n",
        "            try:\n",
        "                for news_div in news_container_div.find_all('div', class_= 'news-analysis-v2_content__z0iLP w-full text-xs sm:flex-1'):\n",
        "                    news_title_a = news_div.find('a', class_ = 'text-inv-blue-500 hover:text-inv-blue-500 hover:underline focus:text-inv-blue-500 focus:underline whitespace-normal text-sm font-bold leading-5 !text-[#181C21] sm:text-base sm:leading-6 lg:text-lg lg:leading-7')\n",
        "                    news_body    = news_div.find('p')\n",
        "                    news_date    = news_div.find('time', class_ = 'mx-1 shrink-0 text-xs leading-4').get('datetime')\n",
        "                    \n",
        "                    news_href    = news_title_a.get('href')\n",
        "                    \n",
        "                    self.news_list.append([page_no, news_date, news_title_a.text , news_body.text, news_href])\n",
        "\n",
        "                    \n",
        "            except ValueError as vEr:\n",
        "                print(vEr)\n",
        "\n",
        "            \n",
        "            self.news_dataset = pd.DataFrame(self.news_list, columns = ['page', 'date','title','body', 'url'] )\n",
        "            self.news_dataset.to_csv(self.output_csv)\n",
        "            \n",
        "            page_no += 1\n",
        "\n",
        "        print ('scraping completed')\n",
        "        print (f'output --> {self.output_csv}')"
      ],
      "outputs": [],
      "execution_count": 7,
      "metadata": {
        "gather": {
          "logged": 1743783596665
        }
      }
    },
    {
      "cell_type": "code",
      "source": [
        "news_scraper = fx_news_scraper()\n",
        "news_scraper.scraper()"
      ],
      "outputs": [
        {
          "output_type": "stream",
          "name": "stderr",
          "text": "\r  0%|          | 0/29 [00:00<?, ?it/s]\r  0%|          | 0/29 [00:00<?, ?it/s]\n"
        },
        {
          "output_type": "error",
          "ename": "HTTPError",
          "evalue": "HTTP Error 403: Forbidden",
          "traceback": [
            "\u001b[0;31m---------------------------------------------------------------------------\u001b[0m",
            "\u001b[0;31mHTTPError\u001b[0m                                 Traceback (most recent call last)",
            "Cell \u001b[0;32mIn[8], line 2\u001b[0m\n\u001b[1;32m      1\u001b[0m news_scraper \u001b[38;5;241m=\u001b[39m fx_news_scraper()\n\u001b[0;32m----> 2\u001b[0m \u001b[43mnews_scraper\u001b[49m\u001b[38;5;241;43m.\u001b[39;49m\u001b[43mscraper\u001b[49m\u001b[43m(\u001b[49m\u001b[43m)\u001b[49m\n",
            "Cell \u001b[0;32mIn[7], line 19\u001b[0m, in \u001b[0;36mfx_news_scraper.scraper\u001b[0;34m(self)\u001b[0m\n\u001b[1;32m     16\u001b[0m url \u001b[38;5;241m=\u001b[39m \u001b[38;5;28mself\u001b[39m\u001b[38;5;241m.\u001b[39mtarget_url \u001b[38;5;241m+\u001b[39m \u001b[38;5;28mstr\u001b[39m(page_no)\n\u001b[1;32m     17\u001b[0m req \u001b[38;5;241m=\u001b[39m Request(url , headers\u001b[38;5;241m=\u001b[39m{\u001b[38;5;124m'\u001b[39m\u001b[38;5;124mUser-Agent\u001b[39m\u001b[38;5;124m'\u001b[39m: \u001b[38;5;124m'\u001b[39m\u001b[38;5;124mMozilla/5.0\u001b[39m\u001b[38;5;124m'\u001b[39m})\n\u001b[0;32m---> 19\u001b[0m webpage \u001b[38;5;241m=\u001b[39m \u001b[43murlopen\u001b[49m\u001b[43m(\u001b[49m\u001b[43mreq\u001b[49m\u001b[43m)\u001b[49m\u001b[38;5;241m.\u001b[39mread()\n\u001b[1;32m     21\u001b[0m soup \u001b[38;5;241m=\u001b[39m bs(webpage, \u001b[38;5;124m\"\u001b[39m\u001b[38;5;124mhtml.parser\u001b[39m\u001b[38;5;124m\"\u001b[39m)\n\u001b[1;32m     23\u001b[0m news_container_div \u001b[38;5;241m=\u001b[39m soup\u001b[38;5;241m.\u001b[39mfind(\u001b[38;5;124m'\u001b[39m\u001b[38;5;124mdiv\u001b[39m\u001b[38;5;124m'\u001b[39m, class_\u001b[38;5;241m=\u001b[39m \u001b[38;5;124m'\u001b[39m\u001b[38;5;124mnews-analysis-v2_articles-container__3fFL8 mdMax:px-3 mb-12\u001b[39m\u001b[38;5;124m'\u001b[39m)\n",
            "File \u001b[0;32m/anaconda/envs/azureml_py38/lib/python3.10/urllib/request.py:216\u001b[0m, in \u001b[0;36murlopen\u001b[0;34m(url, data, timeout, cafile, capath, cadefault, context)\u001b[0m\n\u001b[1;32m    214\u001b[0m \u001b[38;5;28;01melse\u001b[39;00m:\n\u001b[1;32m    215\u001b[0m     opener \u001b[38;5;241m=\u001b[39m _opener\n\u001b[0;32m--> 216\u001b[0m \u001b[38;5;28;01mreturn\u001b[39;00m \u001b[43mopener\u001b[49m\u001b[38;5;241;43m.\u001b[39;49m\u001b[43mopen\u001b[49m\u001b[43m(\u001b[49m\u001b[43murl\u001b[49m\u001b[43m,\u001b[49m\u001b[43m \u001b[49m\u001b[43mdata\u001b[49m\u001b[43m,\u001b[49m\u001b[43m \u001b[49m\u001b[43mtimeout\u001b[49m\u001b[43m)\u001b[49m\n",
            "File \u001b[0;32m/anaconda/envs/azureml_py38/lib/python3.10/urllib/request.py:525\u001b[0m, in \u001b[0;36mOpenerDirector.open\u001b[0;34m(self, fullurl, data, timeout)\u001b[0m\n\u001b[1;32m    523\u001b[0m \u001b[38;5;28;01mfor\u001b[39;00m processor \u001b[38;5;129;01min\u001b[39;00m \u001b[38;5;28mself\u001b[39m\u001b[38;5;241m.\u001b[39mprocess_response\u001b[38;5;241m.\u001b[39mget(protocol, []):\n\u001b[1;32m    524\u001b[0m     meth \u001b[38;5;241m=\u001b[39m \u001b[38;5;28mgetattr\u001b[39m(processor, meth_name)\n\u001b[0;32m--> 525\u001b[0m     response \u001b[38;5;241m=\u001b[39m \u001b[43mmeth\u001b[49m\u001b[43m(\u001b[49m\u001b[43mreq\u001b[49m\u001b[43m,\u001b[49m\u001b[43m \u001b[49m\u001b[43mresponse\u001b[49m\u001b[43m)\u001b[49m\n\u001b[1;32m    527\u001b[0m \u001b[38;5;28;01mreturn\u001b[39;00m response\n",
            "File \u001b[0;32m/anaconda/envs/azureml_py38/lib/python3.10/urllib/request.py:634\u001b[0m, in \u001b[0;36mHTTPErrorProcessor.http_response\u001b[0;34m(self, request, response)\u001b[0m\n\u001b[1;32m    631\u001b[0m \u001b[38;5;66;03m# According to RFC 2616, \"2xx\" code indicates that the client's\u001b[39;00m\n\u001b[1;32m    632\u001b[0m \u001b[38;5;66;03m# request was successfully received, understood, and accepted.\u001b[39;00m\n\u001b[1;32m    633\u001b[0m \u001b[38;5;28;01mif\u001b[39;00m \u001b[38;5;129;01mnot\u001b[39;00m (\u001b[38;5;241m200\u001b[39m \u001b[38;5;241m<\u001b[39m\u001b[38;5;241m=\u001b[39m code \u001b[38;5;241m<\u001b[39m \u001b[38;5;241m300\u001b[39m):\n\u001b[0;32m--> 634\u001b[0m     response \u001b[38;5;241m=\u001b[39m \u001b[38;5;28;43mself\u001b[39;49m\u001b[38;5;241;43m.\u001b[39;49m\u001b[43mparent\u001b[49m\u001b[38;5;241;43m.\u001b[39;49m\u001b[43merror\u001b[49m\u001b[43m(\u001b[49m\n\u001b[1;32m    635\u001b[0m \u001b[43m        \u001b[49m\u001b[38;5;124;43m'\u001b[39;49m\u001b[38;5;124;43mhttp\u001b[39;49m\u001b[38;5;124;43m'\u001b[39;49m\u001b[43m,\u001b[49m\u001b[43m \u001b[49m\u001b[43mrequest\u001b[49m\u001b[43m,\u001b[49m\u001b[43m \u001b[49m\u001b[43mresponse\u001b[49m\u001b[43m,\u001b[49m\u001b[43m \u001b[49m\u001b[43mcode\u001b[49m\u001b[43m,\u001b[49m\u001b[43m \u001b[49m\u001b[43mmsg\u001b[49m\u001b[43m,\u001b[49m\u001b[43m \u001b[49m\u001b[43mhdrs\u001b[49m\u001b[43m)\u001b[49m\n\u001b[1;32m    637\u001b[0m \u001b[38;5;28;01mreturn\u001b[39;00m response\n",
            "File \u001b[0;32m/anaconda/envs/azureml_py38/lib/python3.10/urllib/request.py:563\u001b[0m, in \u001b[0;36mOpenerDirector.error\u001b[0;34m(self, proto, *args)\u001b[0m\n\u001b[1;32m    561\u001b[0m \u001b[38;5;28;01mif\u001b[39;00m http_err:\n\u001b[1;32m    562\u001b[0m     args \u001b[38;5;241m=\u001b[39m (\u001b[38;5;28mdict\u001b[39m, \u001b[38;5;124m'\u001b[39m\u001b[38;5;124mdefault\u001b[39m\u001b[38;5;124m'\u001b[39m, \u001b[38;5;124m'\u001b[39m\u001b[38;5;124mhttp_error_default\u001b[39m\u001b[38;5;124m'\u001b[39m) \u001b[38;5;241m+\u001b[39m orig_args\n\u001b[0;32m--> 563\u001b[0m     \u001b[38;5;28;01mreturn\u001b[39;00m \u001b[38;5;28;43mself\u001b[39;49m\u001b[38;5;241;43m.\u001b[39;49m\u001b[43m_call_chain\u001b[49m\u001b[43m(\u001b[49m\u001b[38;5;241;43m*\u001b[39;49m\u001b[43margs\u001b[49m\u001b[43m)\u001b[49m\n",
            "File \u001b[0;32m/anaconda/envs/azureml_py38/lib/python3.10/urllib/request.py:496\u001b[0m, in \u001b[0;36mOpenerDirector._call_chain\u001b[0;34m(self, chain, kind, meth_name, *args)\u001b[0m\n\u001b[1;32m    494\u001b[0m \u001b[38;5;28;01mfor\u001b[39;00m handler \u001b[38;5;129;01min\u001b[39;00m handlers:\n\u001b[1;32m    495\u001b[0m     func \u001b[38;5;241m=\u001b[39m \u001b[38;5;28mgetattr\u001b[39m(handler, meth_name)\n\u001b[0;32m--> 496\u001b[0m     result \u001b[38;5;241m=\u001b[39m \u001b[43mfunc\u001b[49m\u001b[43m(\u001b[49m\u001b[38;5;241;43m*\u001b[39;49m\u001b[43margs\u001b[49m\u001b[43m)\u001b[49m\n\u001b[1;32m    497\u001b[0m     \u001b[38;5;28;01mif\u001b[39;00m result \u001b[38;5;129;01mis\u001b[39;00m \u001b[38;5;129;01mnot\u001b[39;00m \u001b[38;5;28;01mNone\u001b[39;00m:\n\u001b[1;32m    498\u001b[0m         \u001b[38;5;28;01mreturn\u001b[39;00m result\n",
            "File \u001b[0;32m/anaconda/envs/azureml_py38/lib/python3.10/urllib/request.py:643\u001b[0m, in \u001b[0;36mHTTPDefaultErrorHandler.http_error_default\u001b[0;34m(self, req, fp, code, msg, hdrs)\u001b[0m\n\u001b[1;32m    642\u001b[0m \u001b[38;5;28;01mdef\u001b[39;00m \u001b[38;5;21mhttp_error_default\u001b[39m(\u001b[38;5;28mself\u001b[39m, req, fp, code, msg, hdrs):\n\u001b[0;32m--> 643\u001b[0m     \u001b[38;5;28;01mraise\u001b[39;00m HTTPError(req\u001b[38;5;241m.\u001b[39mfull_url, code, msg, hdrs, fp)\n",
            "\u001b[0;31mHTTPError\u001b[0m: HTTP Error 403: Forbidden"
          ]
        }
      ],
      "execution_count": 8,
      "metadata": {
        "gather": {
          "logged": 1743783663615
        }
      }
    },
    {
      "cell_type": "code",
      "source": [
        "import requests\n",
        "from bs4 import BeautifulSoup\n",
        "from datetime import datetime\n",
        "\n",
        "def get_forex_news_five_years(currency_pair):\n",
        "\n",
        "    headers = {\"User-Agent\": \"Mozilla/5.0\"}\n",
        "    articles = []\n",
        "    \n",
        "    page_count = 0\n",
        "    stop_flag = False\n",
        "    article_titles = []\n",
        "    article_dates = []\n",
        "    while not stop_flag and page_count <= 300:\n",
        "        if page_count == 0:\n",
        "            url = 'https://www.investing.com/currencies/'+currency_pair+'-news'\n",
        "        else:\n",
        "            url = 'https://www.investing.com/currencies/'+currency_pair+'-news/'+str(page_count)\n",
        "        response = requests.get(url, headers=headers)\n",
        "        print('url:',url)\n",
        "        if response.status_code == 200:\n",
        "            soup = BeautifulSoup(response.text, \"html.parser\")\n",
        "            news_list = soup.find('ul', attrs={'data-test': 'news-list'})\n",
        "\n",
        "            # Extract all <article> elements inside it\n",
        "            articles = news_list.find_all('article')\n",
        "            for article in articles:\n",
        "                div_tag = article.find('div', class_='block w-full sm:flex-1')\n",
        "                if div_tag:\n",
        "                    # Extract the <a> tag inside the <div>\n",
        "                    a_tag = div_tag.find('a', href=True)\n",
        "                else:\n",
        "                    print(\"coudln't find div tag of class block w-full sm:flex-1\")\n",
        "                    assert(False)\n",
        "                if a_tag:\n",
        "                    article_title = a_tag.get_text(strip=True)\n",
        "                    \n",
        "                else:\n",
        "                    print(\"coudln't find a tag with href\")\n",
        "                    assert(False)\n",
        "\n",
        "                time_tag = div_tag.find('time', datetime=True)\n",
        "\n",
        "                if time_tag:\n",
        "                    # Get the datetime attribute from the <time> tag\n",
        "                    datetime_value = time_tag['datetime'].split()[0]\n",
        "                    dt = datetime.strptime(datetime_value, '%Y-%m-%d').date()\n",
        "                    current_date = datetime.now().date()\n",
        "                    diff_in_years = current_date.year - dt.year\n",
        "                    if diff_in_years == 5:\n",
        "                        stop_flag = True\n",
        "                    else:\n",
        "                        article_titles.append(article_title)\n",
        "                        article_dates.append(datetime_value)\n",
        "\n",
        "\n",
        "                else:\n",
        "                    print(\"No <time> tag with datetime attribute found.\")\n",
        "                    assert(False)\n",
        "\n",
        "        else:\n",
        "            print(\"couldn't get page info:\",url)\n",
        "            assert(False)\n",
        "\n",
        "        page_count += 1\n",
        "\n",
        "    df = pd.DataFrame({\n",
        "    'Title': article_titles,\n",
        "    'Date': article_dates\n",
        "    })\n",
        "    c1 = currency_pair.split('-')[0]\n",
        "    c2 = currency_pair.split('-')[1]\n",
        "    str_ = c1+'_'+c2\n",
        "    df.to_csv('currency_pair_info'+str_+'.csv', index=False)\n",
        "    print(\"saved csv\")\n",
        "    print(\"done\")\n",
        "\n",
        "currency_pair = 'gbp-usd'\n",
        "pred_horizon = 5 # in days\n",
        "get_forex_news_five_years(currency_pair, pred_horizon)\n"
      ],
      "outputs": [
        {
          "output_type": "stream",
          "name": "stdout",
          "text": "url: https://www.investing.com/currencies/gbp-usd-news\nurl: https://www.investing.com/currencies/gbp-usd-news/1\nurl: https://www.investing.com/currencies/gbp-usd-news/2\nurl: https://www.investing.com/currencies/gbp-usd-news/3\nurl: https://www.investing.com/currencies/gbp-usd-news/4\nurl: https://www.investing.com/currencies/gbp-usd-news/5\nurl: https://www.investing.com/currencies/gbp-usd-news/6\nurl: https://www.investing.com/currencies/gbp-usd-news/7\nurl: https://www.investing.com/currencies/gbp-usd-news/8\nurl: https://www.investing.com/currencies/gbp-usd-news/9\nurl: https://www.investing.com/currencies/gbp-usd-news/10\nurl: https://www.investing.com/currencies/gbp-usd-news/11\nurl: https://www.investing.com/currencies/gbp-usd-news/12\nurl: https://www.investing.com/currencies/gbp-usd-news/13\nurl: https://www.investing.com/currencies/gbp-usd-news/14\nurl: https://www.investing.com/currencies/gbp-usd-news/15\nurl: https://www.investing.com/currencies/gbp-usd-news/16\nurl: https://www.investing.com/currencies/gbp-usd-news/17\nurl: https://www.investing.com/currencies/gbp-usd-news/18\nurl: https://www.investing.com/currencies/gbp-usd-news/19\nurl: https://www.investing.com/currencies/gbp-usd-news/20\nurl: https://www.investing.com/currencies/gbp-usd-news/21\nurl: https://www.investing.com/currencies/gbp-usd-news/22\nurl: https://www.investing.com/currencies/gbp-usd-news/23\nurl: https://www.investing.com/currencies/gbp-usd-news/24\nurl: https://www.investing.com/currencies/gbp-usd-news/25\nurl: https://www.investing.com/currencies/gbp-usd-news/26\nurl: https://www.investing.com/currencies/gbp-usd-news/27\nurl: https://www.investing.com/currencies/gbp-usd-news/28\nurl: https://www.investing.com/currencies/gbp-usd-news/29\nurl: https://www.investing.com/currencies/gbp-usd-news/30\nurl: https://www.investing.com/currencies/gbp-usd-news/31\nurl: https://www.investing.com/currencies/gbp-usd-news/32\nurl: https://www.investing.com/currencies/gbp-usd-news/33\nurl: https://www.investing.com/currencies/gbp-usd-news/34\nurl: https://www.investing.com/currencies/gbp-usd-news/35\nurl: https://www.investing.com/currencies/gbp-usd-news/36\nurl: https://www.investing.com/currencies/gbp-usd-news/37\nurl: https://www.investing.com/currencies/gbp-usd-news/38\nurl: https://www.investing.com/currencies/gbp-usd-news/39\nurl: https://www.investing.com/currencies/gbp-usd-news/40\nurl: https://www.investing.com/currencies/gbp-usd-news/41\nurl: https://www.investing.com/currencies/gbp-usd-news/42\nurl: https://www.investing.com/currencies/gbp-usd-news/43\nurl: https://www.investing.com/currencies/gbp-usd-news/44\nurl: https://www.investing.com/currencies/gbp-usd-news/45\nurl: https://www.investing.com/currencies/gbp-usd-news/46\nurl: https://www.investing.com/currencies/gbp-usd-news/47\nurl: https://www.investing.com/currencies/gbp-usd-news/48\nurl: https://www.investing.com/currencies/gbp-usd-news/49\nurl: https://www.investing.com/currencies/gbp-usd-news/50\nurl: https://www.investing.com/currencies/gbp-usd-news/51\nurl: https://www.investing.com/currencies/gbp-usd-news/52\nurl: https://www.investing.com/currencies/gbp-usd-news/53\nurl: https://www.investing.com/currencies/gbp-usd-news/54\nurl: https://www.investing.com/currencies/gbp-usd-news/55\nurl: https://www.investing.com/currencies/gbp-usd-news/56\nurl: https://www.investing.com/currencies/gbp-usd-news/57\nurl: https://www.investing.com/currencies/gbp-usd-news/58\nurl: https://www.investing.com/currencies/gbp-usd-news/59\nurl: https://www.investing.com/currencies/gbp-usd-news/60\nurl: https://www.investing.com/currencies/gbp-usd-news/61\nurl: https://www.investing.com/currencies/gbp-usd-news/62\nurl: https://www.investing.com/currencies/gbp-usd-news/63\nurl: https://www.investing.com/currencies/gbp-usd-news/64\nurl: https://www.investing.com/currencies/gbp-usd-news/65\nurl: https://www.investing.com/currencies/gbp-usd-news/66\nurl: https://www.investing.com/currencies/gbp-usd-news/67\nurl: https://www.investing.com/currencies/gbp-usd-news/68\nurl: https://www.investing.com/currencies/gbp-usd-news/69\nurl: https://www.investing.com/currencies/gbp-usd-news/70\nurl: https://www.investing.com/currencies/gbp-usd-news/71\nurl: https://www.investing.com/currencies/gbp-usd-news/72\nurl: https://www.investing.com/currencies/gbp-usd-news/73\nurl: https://www.investing.com/currencies/gbp-usd-news/74\nurl: https://www.investing.com/currencies/gbp-usd-news/75\nurl: https://www.investing.com/currencies/gbp-usd-news/76\nurl: https://www.investing.com/currencies/gbp-usd-news/77\nurl: https://www.investing.com/currencies/gbp-usd-news/78\nurl: https://www.investing.com/currencies/gbp-usd-news/79\nurl: https://www.investing.com/currencies/gbp-usd-news/80\nurl: https://www.investing.com/currencies/gbp-usd-news/81\nurl: https://www.investing.com/currencies/gbp-usd-news/82\nurl: https://www.investing.com/currencies/gbp-usd-news/83\nurl: https://www.investing.com/currencies/gbp-usd-news/84\nurl: https://www.investing.com/currencies/gbp-usd-news/85\nurl: https://www.investing.com/currencies/gbp-usd-news/86\nurl: https://www.investing.com/currencies/gbp-usd-news/87\nurl: https://www.investing.com/currencies/gbp-usd-news/88\nurl: https://www.investing.com/currencies/gbp-usd-news/89\nurl: https://www.investing.com/currencies/gbp-usd-news/90\nurl: https://www.investing.com/currencies/gbp-usd-news/91\nurl: https://www.investing.com/currencies/gbp-usd-news/92\nurl: https://www.investing.com/currencies/gbp-usd-news/93\nurl: https://www.investing.com/currencies/gbp-usd-news/94\nurl: https://www.investing.com/currencies/gbp-usd-news/95\nurl: https://www.investing.com/currencies/gbp-usd-news/96\nurl: https://www.investing.com/currencies/gbp-usd-news/97\nurl: https://www.investing.com/currencies/gbp-usd-news/98\nurl: https://www.investing.com/currencies/gbp-usd-news/99\nurl: https://www.investing.com/currencies/gbp-usd-news/100\nurl: https://www.investing.com/currencies/gbp-usd-news/101\nurl: https://www.investing.com/currencies/gbp-usd-news/102\nurl: https://www.investing.com/currencies/gbp-usd-news/103\nurl: https://www.investing.com/currencies/gbp-usd-news/104\nurl: https://www.investing.com/currencies/gbp-usd-news/105\nurl: https://www.investing.com/currencies/gbp-usd-news/106\nurl: https://www.investing.com/currencies/gbp-usd-news/107\nurl: https://www.investing.com/currencies/gbp-usd-news/108\nurl: https://www.investing.com/currencies/gbp-usd-news/109\nurl: https://www.investing.com/currencies/gbp-usd-news/110\nurl: https://www.investing.com/currencies/gbp-usd-news/111\nurl: https://www.investing.com/currencies/gbp-usd-news/112\nurl: https://www.investing.com/currencies/gbp-usd-news/113\nurl: https://www.investing.com/currencies/gbp-usd-news/114\nurl: https://www.investing.com/currencies/gbp-usd-news/115\nurl: https://www.investing.com/currencies/gbp-usd-news/116\nurl: https://www.investing.com/currencies/gbp-usd-news/117\nurl: https://www.investing.com/currencies/gbp-usd-news/118\nurl: https://www.investing.com/currencies/gbp-usd-news/119\nurl: https://www.investing.com/currencies/gbp-usd-news/120\nurl: https://www.investing.com/currencies/gbp-usd-news/121\nurl: https://www.investing.com/currencies/gbp-usd-news/122\nurl: https://www.investing.com/currencies/gbp-usd-news/123\nurl: https://www.investing.com/currencies/gbp-usd-news/124\nurl: https://www.investing.com/currencies/gbp-usd-news/125\nurl: https://www.investing.com/currencies/gbp-usd-news/126\nurl: https://www.investing.com/currencies/gbp-usd-news/127\nurl: https://www.investing.com/currencies/gbp-usd-news/128\nurl: https://www.investing.com/currencies/gbp-usd-news/129\nurl: https://www.investing.com/currencies/gbp-usd-news/130\nurl: https://www.investing.com/currencies/gbp-usd-news/131\nurl: https://www.investing.com/currencies/gbp-usd-news/132\nurl: https://www.investing.com/currencies/gbp-usd-news/133\nurl: https://www.investing.com/currencies/gbp-usd-news/134\nurl: https://www.investing.com/currencies/gbp-usd-news/135\nurl: https://www.investing.com/currencies/gbp-usd-news/136\nurl: https://www.investing.com/currencies/gbp-usd-news/137\nurl: https://www.investing.com/currencies/gbp-usd-news/138\nurl: https://www.investing.com/currencies/gbp-usd-news/139\nurl: https://www.investing.com/currencies/gbp-usd-news/140\nurl: https://www.investing.com/currencies/gbp-usd-news/141\nurl: https://www.investing.com/currencies/gbp-usd-news/142\nurl: https://www.investing.com/currencies/gbp-usd-news/143\nurl: https://www.investing.com/currencies/gbp-usd-news/144\nurl: https://www.investing.com/currencies/gbp-usd-news/145\nurl: https://www.investing.com/currencies/gbp-usd-news/146\nurl: https://www.investing.com/currencies/gbp-usd-news/147\nurl: https://www.investing.com/currencies/gbp-usd-news/148\nurl: https://www.investing.com/currencies/gbp-usd-news/149\nurl: https://www.investing.com/currencies/gbp-usd-news/150\nurl: https://www.investing.com/currencies/gbp-usd-news/151\nurl: https://www.investing.com/currencies/gbp-usd-news/152\nurl: https://www.investing.com/currencies/gbp-usd-news/153\nurl: https://www.investing.com/currencies/gbp-usd-news/154\nurl: https://www.investing.com/currencies/gbp-usd-news/155\nurl: https://www.investing.com/currencies/gbp-usd-news/156\nurl: https://www.investing.com/currencies/gbp-usd-news/157\nurl: https://www.investing.com/currencies/gbp-usd-news/158\nurl: https://www.investing.com/currencies/gbp-usd-news/159\nurl: https://www.investing.com/currencies/gbp-usd-news/160\nurl: https://www.investing.com/currencies/gbp-usd-news/161\nurl: https://www.investing.com/currencies/gbp-usd-news/162\nurl: https://www.investing.com/currencies/gbp-usd-news/163\nurl: https://www.investing.com/currencies/gbp-usd-news/164\nurl: https://www.investing.com/currencies/gbp-usd-news/165\nurl: https://www.investing.com/currencies/gbp-usd-news/166\nurl: https://www.investing.com/currencies/gbp-usd-news/167\nurl: https://www.investing.com/currencies/gbp-usd-news/168\nurl: https://www.investing.com/currencies/gbp-usd-news/169\nurl: https://www.investing.com/currencies/gbp-usd-news/170\nurl: https://www.investing.com/currencies/gbp-usd-news/171\nurl: https://www.investing.com/currencies/gbp-usd-news/172\nurl: https://www.investing.com/currencies/gbp-usd-news/173\nurl: https://www.investing.com/currencies/gbp-usd-news/174\nurl: https://www.investing.com/currencies/gbp-usd-news/175\nurl: https://www.investing.com/currencies/gbp-usd-news/176\nurl: https://www.investing.com/currencies/gbp-usd-news/177\nurl: https://www.investing.com/currencies/gbp-usd-news/178\nurl: https://www.investing.com/currencies/gbp-usd-news/179\nurl: https://www.investing.com/currencies/gbp-usd-news/180\nurl: https://www.investing.com/currencies/gbp-usd-news/181\nurl: https://www.investing.com/currencies/gbp-usd-news/182\nurl: https://www.investing.com/currencies/gbp-usd-news/183\nurl: https://www.investing.com/currencies/gbp-usd-news/184\nurl: https://www.investing.com/currencies/gbp-usd-news/185\nurl: https://www.investing.com/currencies/gbp-usd-news/186\nurl: https://www.investing.com/currencies/gbp-usd-news/187\nurl: https://www.investing.com/currencies/gbp-usd-news/188\nurl: https://www.investing.com/currencies/gbp-usd-news/189\nurl: https://www.investing.com/currencies/gbp-usd-news/190\nurl: https://www.investing.com/currencies/gbp-usd-news/191\nurl: https://www.investing.com/currencies/gbp-usd-news/192\nurl: https://www.investing.com/currencies/gbp-usd-news/193\nurl: https://www.investing.com/currencies/gbp-usd-news/194\nurl: https://www.investing.com/currencies/gbp-usd-news/195\nurl: https://www.investing.com/currencies/gbp-usd-news/196\nurl: https://www.investing.com/currencies/gbp-usd-news/197\nurl: https://www.investing.com/currencies/gbp-usd-news/198\nurl: https://www.investing.com/currencies/gbp-usd-news/199\nurl: https://www.investing.com/currencies/gbp-usd-news/200\nurl: https://www.investing.com/currencies/gbp-usd-news/201\nurl: https://www.investing.com/currencies/gbp-usd-news/202\nurl: https://www.investing.com/currencies/gbp-usd-news/203\nurl: https://www.investing.com/currencies/gbp-usd-news/204\nurl: https://www.investing.com/currencies/gbp-usd-news/205\nurl: https://www.investing.com/currencies/gbp-usd-news/206\nurl: https://www.investing.com/currencies/gbp-usd-news/207\nurl: https://www.investing.com/currencies/gbp-usd-news/208\nurl: https://www.investing.com/currencies/gbp-usd-news/209\nurl: https://www.investing.com/currencies/gbp-usd-news/210\nurl: https://www.investing.com/currencies/gbp-usd-news/211\nurl: https://www.investing.com/currencies/gbp-usd-news/212\nurl: https://www.investing.com/currencies/gbp-usd-news/213\nurl: https://www.investing.com/currencies/gbp-usd-news/214\nurl: https://www.investing.com/currencies/gbp-usd-news/215\nurl: https://www.investing.com/currencies/gbp-usd-news/216\nurl: https://www.investing.com/currencies/gbp-usd-news/217\nurl: https://www.investing.com/currencies/gbp-usd-news/218\nurl: https://www.investing.com/currencies/gbp-usd-news/219\nurl: https://www.investing.com/currencies/gbp-usd-news/220\nurl: https://www.investing.com/currencies/gbp-usd-news/221\nurl: https://www.investing.com/currencies/gbp-usd-news/222\nurl: https://www.investing.com/currencies/gbp-usd-news/223\nurl: https://www.investing.com/currencies/gbp-usd-news/224\nurl: https://www.investing.com/currencies/gbp-usd-news/225\nurl: https://www.investing.com/currencies/gbp-usd-news/226\nurl: https://www.investing.com/currencies/gbp-usd-news/227\nurl: https://www.investing.com/currencies/gbp-usd-news/228\nurl: https://www.investing.com/currencies/gbp-usd-news/229\nurl: https://www.investing.com/currencies/gbp-usd-news/230\nurl: https://www.investing.com/currencies/gbp-usd-news/231\nurl: https://www.investing.com/currencies/gbp-usd-news/232\nurl: https://www.investing.com/currencies/gbp-usd-news/233\nurl: https://www.investing.com/currencies/gbp-usd-news/234\nurl: https://www.investing.com/currencies/gbp-usd-news/235\nurl: https://www.investing.com/currencies/gbp-usd-news/236\nurl: https://www.investing.com/currencies/gbp-usd-news/237\nurl: https://www.investing.com/currencies/gbp-usd-news/238\n"
        }
      ],
      "execution_count": 65,
      "metadata": {
        "gather": {
          "logged": 1743794210134
        }
      }
    }
  ],
  "metadata": {
    "kernelspec": {
      "name": "python38-azureml",
      "language": "python",
      "display_name": "Python 3.8 - AzureML"
    },
    "language_info": {
      "name": "python",
      "version": "3.10.11",
      "mimetype": "text/x-python",
      "codemirror_mode": {
        "name": "ipython",
        "version": 3
      },
      "pygments_lexer": "ipython3",
      "nbconvert_exporter": "python",
      "file_extension": ".py"
    },
    "microsoft": {
      "ms_spell_check": {
        "ms_spell_check_language": "en"
      },
      "host": {
        "AzureML": {
          "notebookHasBeenCompleted": true
        }
      }
    },
    "kernel_info": {
      "name": "python38-azureml"
    },
    "nteract": {
      "version": "nteract-front-end@1.0.0"
    }
  },
  "nbformat": 4,
  "nbformat_minor": 2
}