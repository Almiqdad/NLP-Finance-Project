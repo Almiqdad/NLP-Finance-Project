{
  "cells": [
    {
      "cell_type": "markdown",
      "source": [
        "# **Purpose: Fine-tune LLMs to Predict Price Movements (Up or Down) **"
      ],
      "metadata": {
        "nteract": {
          "transient": {
            "deleting": false
          }
        }
      }
    },
    {
      "cell_type": "code",
      "source": [
        "from transformers import AutoTokenizer, AutoModelForSequenceClassification\n",
        "\n",
        "model_name = \"yiyanghkust/finbert-tone\"  # FinBERT variant pre-trained for financial sentiment\n",
        "tokenizer = AutoTokenizer.from_pretrained(model_name)\n",
        "model = AutoModelForSequenceClassification.from_pretrained(model_name, num_labels=1, ignore_mismatched_sizes=True)"
      ],
      "outputs": [
        {
          "output_type": "stream",
          "name": "stderr",
          "text": "/anaconda/envs/azureml_py38/lib/python3.10/site-packages/transformers/utils/generic.py:441: FutureWarning: `torch.utils._pytree._register_pytree_node` is deprecated. Please use `torch.utils._pytree.register_pytree_node` instead.\n  _torch_pytree._register_pytree_node(\n/anaconda/envs/azureml_py38/lib/python3.10/site-packages/huggingface_hub/file_download.py:1150: FutureWarning: `resume_download` is deprecated and will be removed in version 1.0.0. Downloads always resume when possible. If you want to force a new download, use `force_download=True`.\n  warnings.warn(\n/anaconda/envs/azureml_py38/lib/python3.10/site-packages/transformers/utils/generic.py:309: FutureWarning: `torch.utils._pytree._register_pytree_node` is deprecated. Please use `torch.utils._pytree.register_pytree_node` instead.\n  _torch_pytree._register_pytree_node(\n/anaconda/envs/azureml_py38/lib/python3.10/site-packages/transformers/utils/generic.py:309: FutureWarning: `torch.utils._pytree._register_pytree_node` is deprecated. Please use `torch.utils._pytree.register_pytree_node` instead.\n  _torch_pytree._register_pytree_node(\n/anaconda/envs/azureml_py38/lib/python3.10/site-packages/transformers/modeling_utils.py:519: FutureWarning: You are using `torch.load` with `weights_only=False` (the current default value), which uses the default pickle module implicitly. It is possible to construct malicious pickle data which will execute arbitrary code during unpickling (See https://github.com/pytorch/pytorch/blob/main/SECURITY.md#untrusted-models for more details). In a future release, the default value for `weights_only` will be flipped to `True`. This limits the functions that could be executed during unpickling. Arbitrary objects will no longer be allowed to be loaded via this mode unless they are explicitly allowlisted by the user via `torch.serialization.add_safe_globals`. We recommend you start setting `weights_only=True` for any use case where you don't have full control of the loaded file. Please open an issue on GitHub for any issues related to this experimental feature.\n  return torch.load(checkpoint_file, map_location=map_location)\nSome weights of BertForSequenceClassification were not initialized from the model checkpoint at yiyanghkust/finbert-tone and are newly initialized because the shapes did not match:\n- classifier.weight: found shape torch.Size([3, 768]) in the checkpoint and torch.Size([1, 768]) in the model instantiated\n- classifier.bias: found shape torch.Size([3]) in the checkpoint and torch.Size([1]) in the model instantiated\nYou should probably TRAIN this model on a down-stream task to be able to use it for predictions and inference.\n"
        }
      ],
      "execution_count": 1,
      "metadata": {
        "gather": {
          "logged": 1744044356788
        }
      }
    },
    {
      "cell_type": "code",
      "source": [
        "import pandas as pd\n",
        "from datasets import Dataset\n",
        "\n",
        "df = pd.read_csv('gbp_usd_dataset.csv')\n",
        "df['Titles'] = df['Titles'].apply(lambda x: x.replace('\\n', '. '))  # Replace \\n with a token to mark separation\n",
        "# Calculate the length of each title in the dataset\n",
        "df['title_length'] = df['Titles'].apply(lambda x: len(x))\n",
        "\n",
        "# Check the statistics of title lengths\n",
        "print(f\"Average title length: {df['title_length'].mean()}\")\n",
        "print(f\"Maximum title length: {df['title_length'].max()}\")\n",
        "\n",
        "dataset = Dataset.from_pandas(df)\n",
        "def preprocess(example):\n",
        "    example[\"Label\"] = float(example[\"Label\"])  # Cast to float\n",
        "    return example\n",
        "\n",
        "dataset = dataset.map(preprocess)\n",
        "\n",
        "split_dataset = dataset.train_test_split(test_size=0.2)\n",
        "\n",
        "train_dataset = split_dataset['train']\n",
        "val_dataset = split_dataset['test']\n",
        "\n",
        "model_name = \"yiyanghkust/finbert-tone\"\n",
        "tokenizer = AutoTokenizer.from_pretrained(model_name)\n",
        "\n",
        "\n",
        "def tokenize_function(examples):\n",
        "    return tokenizer(examples[\"Titles\"], truncation=True, padding=\"max_length\", max_length=512)\n",
        "\n",
        "# Tokenize training and validation datasets\n",
        "train_dataset = train_dataset.map(tokenize_function, batched=True)\n",
        "val_dataset = val_dataset.map(tokenize_function, batched=True)\n",
        "\n",
        "train_dataset = train_dataset.rename_column(\"Label\", \"labels\")\n",
        "val_dataset = val_dataset.rename_column(\"Label\", \"labels\")\n",
        "\n",
        "train_dataset.set_format(type=\"torch\", columns=[\"input_ids\", \"attention_mask\", \"labels\"])\n",
        "val_dataset.set_format(type=\"torch\", columns=[\"input_ids\", \"attention_mask\", \"labels\"])\n"
      ],
      "outputs": [
        {
          "output_type": "stream",
          "name": "stdout",
          "text": "Average title length: 551.8222021660649\nMaximum title length: 3023\n"
        },
        {
          "output_type": "display_data",
          "data": {
            "text/plain": "Map:   0%|          | 0/1108 [00:00<?, ? examples/s]",
            "application/vnd.jupyter.widget-view+json": {
              "version_major": 2,
              "version_minor": 0,
              "model_id": "03f20791b4b94529b1efa3910c4457a6"
            }
          },
          "metadata": {}
        },
        {
          "output_type": "stream",
          "name": "stderr",
          "text": "/anaconda/envs/azureml_py38/lib/python3.10/site-packages/huggingface_hub/file_download.py:1150: FutureWarning: `resume_download` is deprecated and will be removed in version 1.0.0. Downloads always resume when possible. If you want to force a new download, use `force_download=True`.\n  warnings.warn(\n"
        },
        {
          "output_type": "display_data",
          "data": {
            "text/plain": "Map:   0%|          | 0/886 [00:00<?, ? examples/s]",
            "application/vnd.jupyter.widget-view+json": {
              "version_major": 2,
              "version_minor": 0,
              "model_id": "509beb3de2514a2bb4cbbfcf2a23d828"
            }
          },
          "metadata": {}
        },
        {
          "output_type": "display_data",
          "data": {
            "text/plain": "Map:   0%|          | 0/222 [00:00<?, ? examples/s]",
            "application/vnd.jupyter.widget-view+json": {
              "version_major": 2,
              "version_minor": 0,
              "model_id": "9b4e3929bc7a43ceaaab80c561ec8b79"
            }
          },
          "metadata": {}
        }
      ],
      "execution_count": 2,
      "metadata": {
        "gather": {
          "logged": 1744044448152
        }
      }
    },
    {
      "cell_type": "code",
      "source": [
        "import torch\n",
        "from torch.utils.data import DataLoader\n",
        "from torch.optim import AdamW\n",
        "from sklearn.metrics import accuracy_score\n",
        "import numpy as np\n",
        "from tqdm import tqdm\n",
        "\n",
        "# Assuming model, train_dataset, val_dataset are already defined\n",
        "# Define the compute_accuracy function\n",
        "def compute_accuracy(logits, labels):\n",
        "    predictions = np.round(logits.cpu().numpy())  # Apply sigmoid and round for binary classification\n",
        "    return accuracy_score(labels.cpu().numpy(), predictions)\n",
        "\n",
        "# Create DataLoaders for training and validation datasets\n",
        "train_loader = DataLoader(train_dataset, batch_size=8, shuffle=True)\n",
        "val_loader = DataLoader(val_dataset, batch_size=8)\n",
        "\n",
        "# Initialize the optimizer\n",
        "optimizer = AdamW(model.parameters(), lr=6e-5, weight_decay=0.01)\n",
        "\n",
        "# Define the loss function\n",
        "loss_fn = torch.nn.BCELoss()  # For binary classification\n",
        "\n",
        "# Training loop\n",
        "num_epochs = 100\n",
        "device = \"cuda\" if torch.cuda.is_available() else \"cpu\"\n",
        "model.to(device)\n",
        "bast_val_acc = 0\n",
        "for epoch in range(num_epochs):\n",
        "    \n",
        "    model.train()\n",
        "    total_loss = 0\n",
        "    correct_preds = 0\n",
        "    total_preds = 0\n",
        "    # Training step\n",
        "    for batch in train_loader:\n",
        "        optimizer.zero_grad()\n",
        "        \n",
        "        # Move batch to device\n",
        "        inputs = batch['input_ids'].to(device)\n",
        "        attention_mask = batch['attention_mask'].to(device)\n",
        "        labels = batch['labels'].to(device)\n",
        "\n",
        "        # Forward pass\n",
        "        logits = torch.sigmoid(model(inputs, attention_mask=attention_mask).logits.squeeze(-1))\n",
        "        \n",
        "        loss = loss_fn(logits, labels.float())  # Compute loss (binary classification)\n",
        "        # Backward pass and optimization\n",
        "        loss.backward()\n",
        "        optimizer.step()\n",
        "\n",
        "        total_loss += loss.item()\n",
        "        \n",
        "        # Compute accuracy\n",
        "        correct_preds += np.sum(np.round(logits.cpu().detach().numpy()) == labels.cpu().numpy())\n",
        "        total_preds += len(labels)\n",
        "\n",
        "    # Compute average training loss and accuracy\n",
        "    avg_train_loss = total_loss / len(train_loader)\n",
        "    train_accuracy = correct_preds / total_preds\n",
        "    print('train loss:',avg_train_loss)\n",
        "    print('train accuracy:',train_accuracy)\n",
        "    \n",
        "    # Evaluation loop\n",
        "    model.eval()\n",
        "    val_accuracy = 0\n",
        "    with torch.no_grad():\n",
        "        for batch in val_loader:\n",
        "            inputs = batch['input_ids'].to(device)\n",
        "            attention_mask = batch['attention_mask'].to(device)\n",
        "            labels = batch['labels'].to(device)\n",
        "            # Forward pass\n",
        "            logits = model(inputs, attention_mask=attention_mask).logits\n",
        "            logits = torch.sigmoid(logits).squeeze(-1)\n",
        "            val_accuracy += compute_accuracy(logits, labels)\n",
        "\n",
        "    avg_val_accuracy = val_accuracy / len(val_loader)\n",
        "    if avg_val_accuracy > bast_val_acc:\n",
        "        torch.save(model.state_dict(), 'model.pth')\n",
        "        print('model saved')\n",
        "        bast_val_acc = avg_val_accuracy\n",
        "    print(f\"Epoch {epoch+1}/{num_epochs}\")\n",
        "    print(f\"Training loss: {avg_train_loss:.4f}, Training accuracy: {train_accuracy:.4f}\")\n",
        "    print(f\"Validation accuracy: {avg_val_accuracy:.4f}\")\n",
        "    \n"
      ],
      "outputs": [
        {
          "output_type": "stream",
          "name": "stdout",
          "text": "train loss: 0.7068574396339623\ntrain accuracy: 0.49887133182844245\nmodel saved\nEpoch 1/100\nTraining loss: 0.7069, Training accuracy: 0.4989\nValidation accuracy: 0.4985\ntrain loss: 0.6990723604554528\ntrain accuracy: 0.48645598194130923\nEpoch 2/100\nTraining loss: 0.6991, Training accuracy: 0.4865\nValidation accuracy: 0.4985\ntrain loss: 0.6955318332792403\ntrain accuracy: 0.4966139954853273\nmodel saved\nEpoch 3/100\nTraining loss: 0.6955, Training accuracy: 0.4966\nValidation accuracy: 0.5015\ntrain loss: 0.6943520941175856\ntrain accuracy: 0.49548532731376976\nEpoch 4/100\nTraining loss: 0.6944, Training accuracy: 0.4955\nValidation accuracy: 0.4985\ntrain loss: 0.6955117803436142\ntrain accuracy: 0.4932279909706546\nEpoch 5/100\nTraining loss: 0.6955, Training accuracy: 0.4932\nValidation accuracy: 0.4985\ntrain loss: 0.6940133292395789\ntrain accuracy: 0.4932279909706546\nEpoch 6/100\nTraining loss: 0.6940, Training accuracy: 0.4932\nValidation accuracy: 0.5015\ntrain loss: 0.6965509411450979\ntrain accuracy: 0.4796839729119639\nEpoch 7/100\nTraining loss: 0.6966, Training accuracy: 0.4797\nValidation accuracy: 0.4985\n"
        }
      ],
      "execution_count": 5,
      "metadata": {
        "gather": {
          "logged": 1744051032701
        }
      }
    },
    {
      "cell_type": "code",
      "source": [
        "from transformers import Trainer, TrainingArguments\n",
        "import torch\n",
        "import torch.nn as nn\n",
        "\n",
        "class CustomTrainer(Trainer):\n",
        "    def compute_loss(self, model, inputs, return_outputs=False):\n",
        "        labels = inputs.pop(\"labels\").float()  # Convert labels to float\n",
        "        outputs = model(**inputs)\n",
        "        logits = outputs.logits\n",
        "        # BCEWithLogitsLoss expects raw logits + float labels\n",
        "        loss_fct = nn.BCEWithLogitsLoss()\n",
        "        loss = loss_fct(logits.view(-1), labels.view(-1))\n",
        "\n",
        "        return (loss, outputs) if return_outputs else loss\n",
        "\n",
        "training_args = TrainingArguments(\n",
        "    output_dir=\"./results\",\n",
        "    evaluation_strategy=\"epoch\",\n",
        "    save_strategy=\"epoch\",\n",
        "    num_train_epochs=100,\n",
        "    per_device_train_batch_size=8,\n",
        "    per_device_eval_batch_size=8,\n",
        "    learning_rate=6e-5,\n",
        "    weight_decay=0.01,\n",
        "    logging_dir=\"./logs\",\n",
        "    load_best_model_at_end=True,\n",
        ")\n",
        "\n",
        "trainer = CustomTrainer(\n",
        "    model=model,\n",
        "    args=training_args,\n",
        "    train_dataset=train_dataset,\n",
        "    eval_dataset=val_dataset,\n",
        "    tokenizer=tokenizer,\n",
        ")\n",
        "trainer.train()"
      ],
      "outputs": [
        {
          "output_type": "stream",
          "name": "stderr",
          "text": "huggingface/tokenizers: The current process just got forked, after parallelism has already been used. Disabling parallelism to avoid deadlocks...\nTo disable this warning, you can either:\n\t- Avoid using `tokenizers` before the fork if possible\n\t- Explicitly set the environment variable TOKENIZERS_PARALLELISM=(true | false)\nhuggingface/tokenizers: The current process just got forked, after parallelism has already been used. Disabling parallelism to avoid deadlocks...\nTo disable this warning, you can either:\n\t- Avoid using `tokenizers` before the fork if possible\n\t- Explicitly set the environment variable TOKENIZERS_PARALLELISM=(true | false)\nhuggingface/tokenizers: The current process just got forked, after parallelism has already been used. Disabling parallelism to avoid deadlocks...\nTo disable this warning, you can either:\n\t- Avoid using `tokenizers` before the fork if possible\n\t- Explicitly set the environment variable TOKENIZERS_PARALLELISM=(true | false)\n"
        },
        {
          "output_type": "display_data",
          "data": {
            "text/plain": "<IPython.core.display.HTML object>",
            "text/html": "\n    <div>\n      \n      <progress value='33' max='100' style='width:300px; height:20px; vertical-align: middle;'></progress>\n      [ 33/100 06:38 < 14:21, 0.08 it/s, Epoch 3.20/10]\n    </div>\n    <table border=\"1\" class=\"dataframe\">\n  <thead>\n <tr style=\"text-align: left;\">\n      <th>Epoch</th>\n      <th>Training Loss</th>\n      <th>Validation Loss</th>\n    </tr>\n  </thead>\n  <tbody>\n    <tr>\n      <td>1</td>\n      <td>No log</td>\n      <td>0.693209</td>\n    </tr>\n    <tr>\n      <td>2</td>\n      <td>No log</td>\n      <td>0.693256</td>\n    </tr>\n    <tr>\n      <td>3</td>\n      <td>No log</td>\n      <td>0.694008</td>\n    </tr>\n  </tbody>\n</table><p>"
          },
          "metadata": {}
        },
        {
          "output_type": "stream",
          "name": "stderr",
          "text": "Checkpoint destination directory ./results/checkpoint-10 already exists and is non-empty.Saving will proceed but saved results may be invalid.\n"
        }
      ],
      "execution_count": 37,
      "metadata": {
        "gather": {
          "logged": 1744062763424
        }
      }
    }
  ],
  "metadata": {
    "kernelspec": {
      "name": "python38-azureml",
      "language": "python",
      "display_name": "Python 3.8 - AzureML"
    },
    "language_info": {
      "name": "python",
      "version": "3.10.11",
      "mimetype": "text/x-python",
      "codemirror_mode": {
        "name": "ipython",
        "version": 3
      },
      "pygments_lexer": "ipython3",
      "nbconvert_exporter": "python",
      "file_extension": ".py"
    },
    "microsoft": {
      "ms_spell_check": {
        "ms_spell_check_language": "en"
      },
      "host": {
        "AzureML": {
          "notebookHasBeenCompleted": true
        }
      }
    },
    "kernel_info": {
      "name": "python38-azureml"
    },
    "nteract": {
      "version": "nteract-front-end@1.0.0"
    }
  },
  "nbformat": 4,
  "nbformat_minor": 2
}